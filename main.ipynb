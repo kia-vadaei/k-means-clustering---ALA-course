{
 "cells": [
  {
   "cell_type": "markdown",
   "metadata": {
    "collapsed": false,
    "pycharm": {
     "name": "#%% md\n"
    }
   },
   "source": [
    "# k-means clustering \n",
    "- Author: Kianoosh Vadaei \n",
    "- Dataset: MNIST\n",
    "\n"
   ]
  },
  {
   "cell_type": "code",
   "execution_count": 1,
   "metadata": {
    "collapsed": false,
    "pycharm": {
     "name": "#%%\n"
    }
   },
   "outputs": [],
   "source": [
    "import numpy as np\n",
    "from PIL import Image"
   ]
  },
  {
   "cell_type": "markdown",
   "source": [
    "**Code Description:**\n",
    "\n",
    "This code processes a set of five images representing handwritten digits from the USPS dataset. Each image is divided into non-overlapping 16x16 submatrices, which are then flattened into vectors. These vectors are collected into a NumPy array called 'datas'. The final output reveals the shape of the 'datas' array, indicating the number of vectors and the size of each vector."
   ],
   "metadata": {
    "collapsed": false,
    "pycharm": {
     "name": "#%% md\n"
    }
   }
  },
  {
   "cell_type": "code",
   "execution_count": null,
   "outputs": [],
   "source": [
    "all_vectors= []\n",
    "for i in range(5):\n",
    "    img = Image.open(f'./usps_{i+1}.jpg')\n",
    "    img_array = np.array(img)\n",
    "    row_size , column_size = img_array.shape\n",
    "    for row_start in range(0,row_size , 16):\n",
    "        for col_start in range(0, column_size, 16):\n",
    "            # Extract the 16*16 submatrix\n",
    "            submatrix = img_array[row_start:row_start + 16, col_start:col_start + 16]\n",
    "            flattened_vec = submatrix.flatten()\n",
    "            all_vectors.append(flattened_vec)\n",
    "datas = np.array(all_vectors)\n",
    "datas.shape"
   ],
   "metadata": {
    "collapsed": false,
    "pycharm": {
     "name": "#%%\n"
    }
   }
  },
  {
   "cell_type": "markdown",
   "source": [
    "**Code Description:**\n",
    "\n",
    "\n",
    "This Python code implements the k-means clustering algorithm with the following functions:\n",
    "\n",
    "initialize_centroids(data, k): Randomly selects k data points as initial centroids.\n",
    "\n",
    "assign_to_clusters(data, centroids): Assigns each data point to the nearest centroid, forming clusters.\n",
    "\n",
    "update_centroids(data, labels, k): Calculates new centroids based on the mean of data points in each cluster.\n",
    "\n",
    "kmeans(data, k, max_iters=100): Performs the k-means algorithm, iterating until convergence or reaching a maximum of 100 iterations. Returns the final centroids and cluster labels."
   ],
   "metadata": {
    "collapsed": false,
    "pycharm": {
     "name": "#%% md\n"
    }
   }
  },
  {
   "cell_type": "code",
   "execution_count": null,
   "outputs": [],
   "source": [
    "def initialize_centroids(data, k):\n",
    "    indices = np.random.choice(len(data), k, replace=False)\n",
    "    return data[indices]\n",
    "\n",
    "def assign_to_clusters(data, centroids):\n",
    "    distances = np.linalg.norm(data[:, np.newaxis] - centroids, axis=2)\n",
    "    return np.argmin(distances, axis=1)\n",
    "\n",
    "def update_centroids(data, labels, k):\n",
    "    new_centroids = np.zeros((k, data.shape[1]))\n",
    "    for i in range(k):\n",
    "        cluster_points = data[labels == i]\n",
    "        if len(cluster_points) > 0:\n",
    "            new_centroids[i] = np.mean(cluster_points, axis=0)\n",
    "    return new_centroids\n",
    "\n",
    "def kmeans(data, k, max_iters=100):\n",
    "    centroids = initialize_centroids(data, k)\n",
    "    \n",
    "    for _ in range(max_iters):\n",
    "        labels = assign_to_clusters(data, centroids)\n",
    "        new_centroids = update_centroids(data, labels, k)\n",
    "        \n",
    "        # Check for convergence\n",
    "        if np.array_equal(centroids, new_centroids):\n",
    "            break\n",
    "        \n",
    "        centroids = new_centroids\n",
    "    \n",
    "    return centroids, labels"
   ],
   "metadata": {
    "collapsed": false,
    "pycharm": {
     "name": "#%%\n"
    }
   }
  },
  {
   "cell_type": "markdown",
   "source": [
    "**Code Description:**\n",
    "\n",
    "This code applies k-means clustering with k=5 to the dataset datas and prints the final centroids and cluster labels."
   ],
   "metadata": {
    "collapsed": false,
    "pycharm": {
     "name": "#%% md\n"
    }
   }
  },
  {
   "cell_type": "code",
   "execution_count": null,
   "outputs": [],
   "source": [
    "k = 5\n",
    "\n",
    "# Run k-means clustering\n",
    "centroids, labels = kmeans(datas, k)\n",
    "\n",
    "print(\"Final Centroids:\\n\", centroids)\n",
    "print(\"Labels:\\n\", labels)"
   ],
   "metadata": {
    "collapsed": false,
    "pycharm": {
     "name": "#%%\n"
    }
   }
  },
  {
   "cell_type": "markdown",
   "source": [
    "**Code Description:**\n",
    "\n",
    "This code creates and saves images for each of the k=5 centroids obtained from k-means clustering."
   ],
   "metadata": {
    "collapsed": false,
    "pycharm": {
     "name": "#%% md\n"
    }
   }
  },
  {
   "cell_type": "code",
   "execution_count": null,
   "outputs": [],
   "source": [
    "for i in range(k):\n",
    "    tmp_centroid = centroids[i,:]\n",
    "    centroid_matrix = tmp_centroid.reshape((16,16))\n",
    "    image_data = np.uint8(centroid_matrix)\n",
    "\n",
    "    image = Image.fromarray(image_data)\n",
    "\n",
    "    image.save(f\"kianoosh/k=5/centroids/centroid{i+1}.png\")\n",
    "    image.show()"
   ],
   "metadata": {
    "collapsed": false,
    "pycharm": {
     "name": "#%%\n"
    }
   }
  },
  {
   "cell_type": "code",
   "execution_count": 27,
   "metadata": {
    "pycharm": {
     "name": "#%%\n"
    }
   },
   "outputs": [],
   "source": [
    "for i in range(k):\n",
    "    tmp_centroid = centroids[i,:]\n",
    "    centroid_matrix = tmp_centroid.reshape((16,16))\n",
    "    image_data = np.uint8(centroid_matrix)\n",
    "\n",
    "    image = Image.fromarray(image_data)\n",
    "\n",
    "    image.save(f\"kianoosh/k=5/centroids/centroid{i+1}.png\")\n",
    "    image.show()"
   ]
  }
 ],
 "metadata": {
  "kernelspec": {
   "display_name": "Python 3",
   "language": "python",
   "name": "python3"
  },
  "language_info": {
   "codemirror_mode": {
    "name": "ipython",
    "version": 3
   },
   "file_extension": ".py",
   "mimetype": "text/x-python",
   "name": "python",
   "nbconvert_exporter": "python",
   "pygments_lexer": "ipython3",
   "version": "3.10.7"
  }
 },
 "nbformat": 4,
 "nbformat_minor": 2
}